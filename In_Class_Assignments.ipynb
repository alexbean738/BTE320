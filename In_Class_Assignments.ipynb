{
  "nbformat": 4,
  "nbformat_minor": 0,
  "metadata": {
    "colab": {
      "provenance": [],
      "authorship_tag": "ABX9TyMCpomOUiw3SXHRoHYzZQV4",
      "include_colab_link": true
    },
    "kernelspec": {
      "name": "python3",
      "display_name": "Python 3"
    },
    "language_info": {
      "name": "python"
    }
  },
  "cells": [
    {
      "cell_type": "markdown",
      "metadata": {
        "id": "view-in-github",
        "colab_type": "text"
      },
      "source": [
        "<a href=\"https://colab.research.google.com/github/alexbean738/BTE320/blob/main/In_Class_Assignments.ipynb\" target=\"_parent\"><img src=\"https://colab.research.google.com/assets/colab-badge.svg\" alt=\"Open In Colab\"/></a>"
      ]
    },
    {
      "cell_type": "code",
      "source": [
        "Sales =float(input('enter the total sales'))\n",
        "COGS_pct =float(input('enter the total cost of goods sold (%)'))\n",
        "COGS = Sales * COGS_pct\n",
        "GrossProfit=Sales-COGS\n",
        "print(f'cost of goods sold: ${COGS}')\n",
        "print(f'gross profit:${GrossProfit}')"
      ],
      "metadata": {
        "colab": {
          "base_uri": "https://localhost:8080/"
        },
        "id": "gnmInYqbinII",
        "outputId": "db6f5989-c8a7-4f01-b85c-9849ea037db0"
      },
      "execution_count": null,
      "outputs": [
        {
          "output_type": "stream",
          "name": "stdout",
          "text": [
            "cost of goods sold: $200.0\n",
            "gross profit:$800.0\n"
          ]
        }
      ]
    },
    {
      "cell_type": "code",
      "source": [
        "Sales =float(input('enter the total sales: '))\n",
        "TaxRate= float(input('enter the tax rate as a percent: '))\n",
        "COGS= Sales*0.4\n",
        "GrossProfit = Sales-COGS\n",
        "Taxes= TaxRate*GrossProfit\n",
        "NetIncome = GrossProfit-Taxes\n",
        "print(f'cost of goods sold: $ {COGS}')\n",
        "print(f'gross profit: $ {GrossProfit}')\n",
        "print(f'taxes: $ {Taxes}')\n",
        "print(f'net income: $ {NetIncome}')"
      ],
      "metadata": {
        "colab": {
          "base_uri": "https://localhost:8080/"
        },
        "id": "qmax0ZfPjdT5",
        "outputId": "1e92148e-197b-4b06-cce0-486af1b2614b"
      },
      "execution_count": null,
      "outputs": [
        {
          "output_type": "stream",
          "name": "stdout",
          "text": [
            "enter the total sales: 1000\n",
            "enter the tax rate as a percent: 0.2\n",
            "cost of goods sold: $ 400.0\n",
            "gross profit: $ 600.0\n",
            "taxes: $ 120.0\n",
            "net income: $ 480.0\n"
          ]
        }
      ]
    },
    {
      "cell_type": "code",
      "source": [
        "# Inventory management exercise\n",
        "Demand = float(input('enter the annual demand in units/year: '))\n",
        "Reorder = float(input('enter the average reorder cost in $/order: '))\n",
        "Holding = float(input('enter the holding cost in $/unit/year: '))\n",
        "\n",
        "EOQ = (2*Demand*Reorder / Holding) ** 0.5\n",
        "print(f'EOQ: {EOQ} units')\n"
      ],
      "metadata": {
        "colab": {
          "base_uri": "https://localhost:8080/"
        },
        "id": "yGNgeHXCJndX",
        "outputId": "6d3d6c1a-d16c-46a9-9a75-7ba1f0d5158e"
      },
      "execution_count": 3,
      "outputs": [
        {
          "output_type": "stream",
          "name": "stdout",
          "text": [
            "enter the annual demand in units/year: 100\n",
            "enter the average reorder cost in $/order: 1.5\n",
            "enter the holding cost in $/unit/year: 3\n",
            "EOQ: 10.0 units\n"
          ]
        }
      ]
    }
  ]
}