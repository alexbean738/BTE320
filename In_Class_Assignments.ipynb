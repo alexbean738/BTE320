{
  "nbformat": 4,
  "nbformat_minor": 0,
  "metadata": {
    "colab": {
      "provenance": [],
      "authorship_tag": "ABX9TyNU+Y6wGpJgzm52FJhKnADg",
      "include_colab_link": true
    },
    "kernelspec": {
      "name": "python3",
      "display_name": "Python 3"
    },
    "language_info": {
      "name": "python"
    }
  },
  "cells": [
    {
      "cell_type": "markdown",
      "metadata": {
        "id": "view-in-github",
        "colab_type": "text"
      },
      "source": [
        "<a href=\"https://colab.research.google.com/github/alexbean738/BTE320/blob/main/In_Class_Assignments.ipynb\" target=\"_parent\"><img src=\"https://colab.research.google.com/assets/colab-badge.svg\" alt=\"Open In Colab\"/></a>"
      ]
    },
    {
      "cell_type": "code",
      "source": [
        "Sales =float(input('enter the total sales'))\n",
        "COGS_pct =float(input('enter the total cost of goods sold (%)'))\n",
        "COGS = Sales * COGS_pct\n",
        "GrossProfit=Sales-COGS\n",
        "print(f'cost of goods sold: ${COGS}')\n",
        "print(f'gross profit:${GrossProfit}')"
      ],
      "metadata": {
        "colab": {
          "base_uri": "https://localhost:8080/"
        },
        "id": "gnmInYqbinII",
        "outputId": "db6f5989-c8a7-4f01-b85c-9849ea037db0"
      },
      "execution_count": null,
      "outputs": [
        {
          "output_type": "stream",
          "name": "stdout",
          "text": [
            "cost of goods sold: $200.0\n",
            "gross profit:$800.0\n"
          ]
        }
      ]
    },
    {
      "cell_type": "code",
      "source": [
        "Sales =float(input('enter the total sales: '))\n",
        "TaxRate= float(input('enter the tax rate as a percent: '))\n",
        "COGS= Sales*0.4\n",
        "GrossProfit = Sales-COGS\n",
        "Taxes= TaxRate*GrossProfit\n",
        "NetIncome = GrossProfit-Taxes\n",
        "print(f'cost of goods sold: $ {COGS}')\n",
        "print(f'gross profit: $ {GrossProfit}')\n",
        "print(f'taxes: $ {Taxes}')\n",
        "print(f'net income: $ {NetIncome}')"
      ],
      "metadata": {
        "colab": {
          "base_uri": "https://localhost:8080/"
        },
        "id": "qmax0ZfPjdT5",
        "outputId": "1e92148e-197b-4b06-cce0-486af1b2614b"
      },
      "execution_count": null,
      "outputs": [
        {
          "output_type": "stream",
          "name": "stdout",
          "text": [
            "enter the total sales: 1000\n",
            "enter the tax rate as a percent: 0.2\n",
            "cost of goods sold: $ 400.0\n",
            "gross profit: $ 600.0\n",
            "taxes: $ 120.0\n",
            "net income: $ 480.0\n"
          ]
        }
      ]
    },
    {
      "cell_type": "code",
      "source": [
        "# Inventory management exercise\n",
        "Demand = float(input('enter the annual demand in units/year: '))\n",
        "Reorder = float(input('enter the average reorder cost in $/order: '))\n",
        "Holding = float(input('enter the holding cost in $/unit/year: '))\n",
        "\n",
        "EOQ = (2*Demand*Reorder / Holding) ** 0.5\n",
        "print(f'EOQ: {EOQ} units')\n"
      ],
      "metadata": {
        "colab": {
          "base_uri": "https://localhost:8080/"
        },
        "id": "yGNgeHXCJndX",
        "outputId": "6d3d6c1a-d16c-46a9-9a75-7ba1f0d5158e"
      },
      "execution_count": null,
      "outputs": [
        {
          "output_type": "stream",
          "name": "stdout",
          "text": [
            "enter the annual demand in units/year: 100\n",
            "enter the average reorder cost in $/order: 1.5\n",
            "enter the holding cost in $/unit/year: 3\n",
            "EOQ: 10.0 units\n"
          ]
        }
      ]
    },
    {
      "cell_type": "code",
      "source": [
        "#Calculator Exercise\n",
        "def SimpleCalculator():\n",
        "    num1 = float(input(\"Enter first number: \"))\n",
        "    operator = input(\"Enter operator (+, -, *, /, //, **, %): \")\n",
        "    num2 = float(input(\"Enter second number: \"))\n",
        "\n",
        "    if operator == '+':\n",
        "        result = num1 + num2\n",
        "    elif operator == '-':\n",
        "        result = num1 - num2\n",
        "    elif operator == '*':\n",
        "        result = num1 * num2\n",
        "    elif operator == '//':\n",
        "        result = num1 // num2\n",
        "    elif operator == '**':\n",
        "        result = num1 ** num2\n",
        "    elif operator == '%':\n",
        "        result = num1 % num2\n",
        "    elif operator == '/':\n",
        "        if num2 != 0:\n",
        "            result = num1 / num2\n",
        "        else:\n",
        "            result = \"Error: Cannot divide by 0.\"\n",
        "    else:\n",
        "        result = \"Error: Invalid operator.\"\n",
        "    print(\"Result:\", result)\n",
        "\n",
        "SimpleCalculator()\n"
      ],
      "metadata": {
        "colab": {
          "base_uri": "https://localhost:8080/"
        },
        "id": "eQLdbZTgMVaS",
        "outputId": "2b9f605d-6378-4247-b53a-5808cf50433c"
      },
      "execution_count": null,
      "outputs": [
        {
          "output_type": "stream",
          "name": "stdout",
          "text": [
            "Enter first number: 4\n",
            "Enter operator (+, -, *, /, //, **, %): %\n",
            "Enter second number: 3\n",
            "Result: 1.0\n"
          ]
        }
      ]
    },
    {
      "cell_type": "code",
      "source": [
        "#Parking Garage exericise\n",
        "hour = float()\n",
        "for hour in range(1, 9, 1):\n",
        "  cost = 5 + 2.5 * hour\n",
        "  if cost < 10:\n",
        "    cost = 10\n",
        "  elif cost > 20:\n",
        "    cost = 20\n",
        "  print(f'{hour}, {cost}')\n"
      ],
      "metadata": {
        "colab": {
          "base_uri": "https://localhost:8080/"
        },
        "id": "kISi1XcPgWzm",
        "outputId": "5d33caed-bfda-48a1-84c5-29fac94b6b0a"
      },
      "execution_count": null,
      "outputs": [
        {
          "output_type": "stream",
          "name": "stdout",
          "text": [
            "1, 10\n",
            "2, 10.0\n",
            "3, 12.5\n",
            "4, 15.0\n",
            "5, 17.5\n",
            "6, 20.0\n",
            "7, 20\n",
            "8, 20\n"
          ]
        }
      ]
    },
    {
      "cell_type": "code",
      "source": [
        "# Movie Theater exercise\n",
        "for AdvertisingDollar in range(0, 201, 25):\n",
        "  Revenue = 20 * 10 + 10 * 2 * AdvertisingDollar**0.5\n",
        "  Expenses = AdvertisingDollar + 200\n",
        "  Profit = Revenue - Expenses\n",
        "  print(AdvertisingDollar, round(Profit))"
      ],
      "metadata": {
        "colab": {
          "base_uri": "https://localhost:8080/"
        },
        "id": "5lZbuTprP2rH",
        "outputId": "7af479ea-e5ff-4ca0-ed0e-91f268d5fd2e"
      },
      "execution_count": null,
      "outputs": [
        {
          "output_type": "stream",
          "name": "stdout",
          "text": [
            "0 0\n",
            "25 75\n",
            "50 91\n",
            "75 98\n",
            "100 100\n",
            "125 99\n",
            "150 95\n",
            "175 90\n",
            "200 83\n"
          ]
        }
      ]
    },
    {
      "cell_type": "code",
      "source": [
        "list = []\n",
        "num = float(input(\"Enter a number, enter 0 to finish the list: \"))\n",
        "while num != 0:\n",
        "  list.append(num)\n",
        "  num = float(input(\"Enter a number, enter 0 to finish the list: \"))\n",
        "if num == 0:\n",
        "  list.sort(reverse=True)\n",
        "  print(list)"
      ],
      "metadata": {
        "colab": {
          "base_uri": "https://localhost:8080/"
        },
        "id": "sqbo7dDiuiOd",
        "outputId": "62f72d93-b222-4536-c60f-e68116746ea9"
      },
      "execution_count": 8,
      "outputs": [
        {
          "output_type": "stream",
          "name": "stdout",
          "text": [
            "Enter a number, enter 0 to finish the list: 4\n",
            "Enter a number, enter 0 to finish the list: 2\n",
            "Enter a number, enter 0 to finish the list: 3\n",
            "Enter a number, enter 0 to finish the list: 0\n",
            "[4.0, 3.0, 2.0]\n"
          ]
        }
      ]
    }
  ]
}